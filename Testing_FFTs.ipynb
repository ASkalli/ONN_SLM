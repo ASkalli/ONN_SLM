{
 "cells": [
  {
   "cell_type": "markdown",
   "metadata": {},
   "source": [
    "# MNIST with linear optical neural network"
   ]
  },
  {
   "cell_type": "code",
   "execution_count": 1,
   "metadata": {},
   "outputs": [],
   "source": [
    "import numpy as np\n",
    "import matplotlib.pyplot as plt\n",
    "import torch\n",
    "from torchvision import datasets, transforms\n",
    "import torch.nn as nn\n",
    "import torch.nn.functional as F\n",
    "import time\n",
    "import scipy\n",
    "import pyfftw"
   ]
  },
  {
   "cell_type": "code",
   "execution_count": 2,
   "metadata": {},
   "outputs": [],
   "source": [
    "#MNIST dataset\n",
    "MNIST_train = datasets.MNIST(root='./data', train=True, transform=transforms.ToTensor(), download=True)\n",
    "MNIST_test = datasets.MNIST(root='./data', train=False, transform=transforms.ToTensor(), download=True)\n",
    "\n",
    "#Dataloaders\n",
    "train_loader_MNIST = torch.utils.data.DataLoader(dataset=MNIST_train, batch_size=10000, shuffle=True)\n",
    "test_loader_MNIST = torch.utils.data.DataLoader(dataset=MNIST_test, batch_size=10000, shuffle=False)\n"
   ]
  },
  {
   "cell_type": "code",
   "execution_count": 3,
   "metadata": {},
   "outputs": [],
   "source": [
    "X_train_MNIST, Y_train_MNIST = next(iter(train_loader_MNIST))\n",
    "X_train_MNIST = np.squeeze(X_train_MNIST.detach().cpu().numpy())\n",
    "Y_train_MNIST = Y_train_MNIST.numpy()\n",
    "\n",
    "X_test_MNIST, Y_test_MNIST = next(iter(test_loader_MNIST))\n",
    "X_test_MNIST = np.squeeze(X_test_MNIST.detach().cpu().numpy())\n",
    "Y_test_MNIST = Y_test_MNIST.numpy()"
   ]
  },
  {
   "cell_type": "markdown",
   "metadata": {},
   "source": [
    "#### Here we try different FFFTs\n",
    "\n",
    "- On the numpy arrays we just created before.\n",
    "- Numpy, scipy, cupy, torch"
   ]
  },
  {
   "cell_type": "code",
   "execution_count": null,
   "metadata": {},
   "outputs": [],
   "source": []
  },
  {
   "cell_type": "code",
   "execution_count": 4,
   "metadata": {},
   "outputs": [
    {
     "name": "stdout",
     "output_type": "stream",
     "text": [
      "Time for numpy FFT: 0.9459607601165771\n"
     ]
    }
   ],
   "source": [
    "# let's test numpy's FFT \n",
    "\n",
    "start_time = time.time()\n",
    "\n",
    "X_train_FFT_1 = np.fft.fft2(X_train_MNIST, axes=(-2,-1))\n",
    "\n",
    "end_time = time.time()\n",
    "\n",
    "npumpy_FFT_time = end_time - start_time\n",
    "\n",
    "print(f'Time for numpy FFT: {end_time - start_time}')"
   ]
  },
  {
   "cell_type": "code",
   "execution_count": 5,
   "metadata": {},
   "outputs": [
    {
     "name": "stdout",
     "output_type": "stream",
     "text": [
      "Time for scipy FFT: 0.7190749645233154\n"
     ]
    }
   ],
   "source": [
    "# let's test scipy's FFT\n",
    "\n",
    "start_time = time.time()\n",
    "\n",
    "X_train_FFT_2 = scipy.fft.fft2(X_train_MNIST, axes=(-2,-1))\n",
    "\n",
    "end_time = time.time()\n",
    "\n",
    "scipy_FFT_time = end_time - start_time\n",
    "\n",
    "print(f'Time for scipy FFT: {end_time - start_time}')\n"
   ]
  },
  {
   "cell_type": "code",
   "execution_count": 6,
   "metadata": {},
   "outputs": [
    {
     "name": "stdout",
     "output_type": "stream",
     "text": [
      "Time for fftw FFT: 0.39735841751098633\n"
     ]
    }
   ],
   "source": [
    "# let's test fftw's FFT, it is natively faster and supports easy multithreading\n",
    "\n",
    "start_time = time.time()\n",
    "pyfftw.config.NUM_THREADS = 8\n",
    "X_train_FFT_3 = pyfftw.interfaces.numpy_fft.fft2(X_train_MNIST, axes=(-2,-1))\n",
    "\n",
    "end_time = time.time()\n",
    "\n",
    "fftw_FFT_time = end_time - start_time\n",
    "\n",
    "print(f'Time for fftw FFT: {end_time - start_time}')"
   ]
  },
  {
   "cell_type": "code",
   "execution_count": 7,
   "metadata": {},
   "outputs": [
    {
     "name": "stdout",
     "output_type": "stream",
     "text": [
      "Time for Torch FFT: 1.4028935432434082\n"
     ]
    }
   ],
   "source": [
    "# let's test pytorch FFT, it is natively faster and supports easy multithreading\n",
    "\n",
    "X_train_MNIST, Y_train_MNIST = next(iter(train_loader_MNIST))\n",
    "\n",
    "device = torch.device('cuda' if torch.cuda.is_available() else 'cpu')\n",
    "\n",
    "X_train_MNIST = X_train_MNIST.to(device)\n",
    "\n",
    "torch.cuda.synchronize()\n",
    "\n",
    "start_time = time.time()\n",
    "\n",
    "X_train_FFT_4 = torch.fft.fft2(X_train_MNIST)\n",
    "\n",
    "torch.cuda.synchronize()\n",
    "end_time = time.time()\n",
    "\n",
    "torch_FFT_time = end_time - start_time\n",
    "\n",
    "print(f'Time for Torch FFT: {end_time - start_time}')"
   ]
  },
  {
   "cell_type": "code",
   "execution_count": 8,
   "metadata": {},
   "outputs": [
    {
     "data": {
      "image/png": "[encoded data removed]",
      "text/plain": [
       "<Figure size 640x480 with 1 Axes>"
      ]
     },
     "metadata": {},
     "output_type": "display_data"
    }
   ],
   "source": [
    "#plotting comparison\n",
    "\n",
    "time_vec = [npumpy_FFT_time, scipy_FFT_time, fftw_FFT_time, torch_FFT_time]\n",
    "labels = ['Numpy', 'Scipy', 'FFTW', 'Torch']\n",
    "\n",
    "plt.bar(labels, time_vec)\n",
    "plt.ylabel('Time (s)')\n",
    "plt.show()"
   ]
  },
  {
   "cell_type": "code",
   "execution_count": 7,
   "metadata": {},
   "outputs": [],
   "source": [
    "class Lin_ONN(nn.Module):\n",
    "    # Class simulating an optical linear neural network\n",
    "    def __init__(self, input_size=784, SLM_size=100, output_size=10):\n",
    "        \n",
    "        super(Lin_ONN, self).__init__()\n",
    "        \n",
    "        # SLM parameters (trainable)\n",
    "        self.SLM_params = nn.Parameter(torch.rand(size=(SLM_size,SLM_size)) * 2 * torch.pi)  # Phase modulation parameters\n",
    "        self.SLM_size = SLM_size\n",
    "\n",
    "    def forward(self, X):\n",
    "        \n",
    "        # Apply FFT (forward transform)\n",
    "        X_fft = torch.fft.fft2(X)\n",
    "        #print(X_fft.shape)\n",
    "        #print(self.SLM_params.shape)\n",
    "        #print(self.SLM_size)\n",
    "            # Resize using interpolation\n",
    "        X_fft = F.interpolate(\n",
    "            X_fft.real, size=(self.SLM_size, self.SLM_size), mode='bilinear', align_corners=False\n",
    "            ) + 1j * F.interpolate(\n",
    "        X_fft.imag, size=(self.SLM_size, self.SLM_size), mode='bilinear', align_corners=False\n",
    "            )   \n",
    "        # Create the complex exponential for phase modulation (e^i*theta)\n",
    "        # Apply phase modulation (element-wise multiplication in Fourier domain)\n",
    "\n",
    "        X_fft = X_fft * torch.exp(1j * self.SLM_params)\n",
    "        \n",
    "        # Apply Inverse FFT to bring it back to real space\n",
    "        X_fft = torch.fft.ifft2(X_fft)\n",
    "        \n",
    "        # Now, apply the output layer which is camera detection\n",
    "        X_fft = torch.abs(X_fft)**2  \n",
    "        \n",
    "        # Output projection (you can adapt this based on your task)\n",
    "        logits = X_fft\n",
    "        \n",
    "        return logits"
   ]
  },
  {
   "cell_type": "code",
   "execution_count": 8,
   "metadata": {},
   "outputs": [
    {
     "name": "stdout",
     "output_type": "stream",
     "text": [
      "Forward pass time: 0.47239208221435547 seconds\n"
     ]
    }
   ],
   "source": [
    "X_train_MNIST, Y_train_MNIST = next(iter(train_loader_MNIST))\n",
    "\n",
    "\n",
    "ONN = Lin_ONN(SLM_size=100)\n",
    "\n",
    "device = torch.device('cuda' if torch.cuda.is_available() else 'cpu')\n",
    "\n",
    "# Move input data to the device\n",
    "X_train_MNIST = X_train_MNIST.to(device)\n",
    "\n",
    "# Move model to the device\n",
    "ONN.to(device)\n",
    "\n",
    "# Measure forward pass time\n",
    "torch.cuda.synchronize()\n",
    "start_time = time.time()\n",
    "\n",
    "# Forward pass\n",
    "Y = ONN.forward(X_train_MNIST)\n",
    "\n",
    "torch.cuda.synchronize()\n",
    "end_time = time.time()\n",
    "\n",
    "print(f'Forward pass time: {end_time - start_time} seconds')\n"
   ]
  },
  {
   "cell_type": "code",
   "execution_count": 5,
   "metadata": {},
   "outputs": [],
   "source": [
    "from scipy.ndimage import zoom\n",
    "\n",
    "class Lin_ONN_fftw():\n",
    "    # Class simulating an optical linear neural network\n",
    "    def __init__(self, input_size=784, SLM_size=100, output_size=10):\n",
    "        # SLM parameters (trainable)\n",
    "        self.SLM_params = np.random.rand(SLM_size, SLM_size) * 2 * np.pi  # Phase modulation parameters\n",
    "        self.SLM_size = SLM_size\n",
    "        # Calculate zoom factors for each dimension\n",
    "        self.zoom_factor = SLM_size / np.sqrt(784)\n",
    "\n",
    "    def forward(self, X):\n",
    "        \n",
    "        # Apply FFT (forward transform)\n",
    "        X_fft = pyfftw.interfaces.numpy_fft.fft2(X, axes=(-2,-1))\n",
    "        #print(X_fft.shape)\n",
    "        #print(self.SLM_params.shape)\n",
    "        #print(self.SLM_size)\n",
    "            # Resize using interpolation\n",
    "\n",
    "        X_fft =  zoom(X_fft.real , zoom=(1,self.zoom_factor,self.zoom_factor))\n",
    "        + 1j * zoom(X_fft.imag, zoom=(1,self.zoom_factor,self.zoom_factor))\n",
    "        # Create the complex exponential for phase modulation (e^i*theta)\n",
    "        # Apply phase modulation (element-wise multiplication in Fourier domain)\n",
    "\n",
    "        X_fft = X_fft * np.exp(1j * self.SLM_params)\n",
    "        \n",
    "        # Apply Inverse FFT to bring it back to real space\n",
    "        X_fft = pyfftw.interfaces.numpy_fft.ifft2(X_fft, axes=(-2, -1))\n",
    "\n",
    "        \n",
    "        # Now, apply the output layer which is camera detection\n",
    "        X_fft = np.abs(X_fft)**2  \n",
    "        \n",
    "        # Output projection (you can adapt this based on your task)\n",
    "        logits = X_fft\n",
    "        \n",
    "        return logits"
   ]
  },
  {
   "cell_type": "code",
   "execution_count": 6,
   "metadata": {},
   "outputs": [
    {
     "name": "stdout",
     "output_type": "stream",
     "text": [
      "Forward pass time: 309.9981915950775 seconds\n"
     ]
    }
   ],
   "source": [
    "X_train_MNIST, Y_train_MNIST = next(iter(train_loader_MNIST))\n",
    "\n",
    "\n",
    "ONN_fftw = Lin_ONN_fftw(SLM_size=100)\n",
    "pyfftw.config.NUM_THREADS = 8\n",
    "\n",
    "\n",
    "# Move input data to the device\n",
    "X_train_MNIST = np.squeeze(X_train_MNIST.detach().cpu().numpy())\n",
    "\n",
    "\n",
    "start_time = time.time()\n",
    "\n",
    "# Forward pass\n",
    "Y = ONN_fftw.forward(X_train_MNIST)\n",
    "\n",
    "end_time = time.time()\n",
    "\n",
    "print(f'Forward pass time: {end_time - start_time} seconds')\n"
   ]
  },
  {
   "cell_type": "code",
   "execution_count": null,
   "metadata": {},
   "outputs": [],
   "source": [
    "images = np.squeeze(Y.detach().cpu().numpy())"
   ]
  },
  {
   "cell_type": "code",
   "execution_count": null,
   "metadata": {},
   "outputs": [
    {
     "data": {
      "text/plain": [
       "<matplotlib.image.AxesImage at 0x1fc0b0bfa00>"
      ]
     },
     "execution_count": 12,
     "metadata": {},
     "output_type": "execute_result"
    },
    {
     "data": {
      "image/png": "[encoded data removed]",
      "text/plain": [
       "<Figure size 640x480 with 1 Axes>"
      ]
     },
     "metadata": {},
     "output_type": "display_data"
    }
   ],
   "source": []
  }
 ],
 "metadata": {
  "kernelspec": {
   "display_name": "base",
   "language": "python",
   "name": "python3"
  },
  "language_info": {
   "codemirror_mode": {
    "name": "ipython",
    "version": 3
   },
   "file_extension": ".py",
   "mimetype": "text/x-python",
   "name": "python",
   "nbconvert_exporter": "python",
   "pygments_lexer": "ipython3",
   "version": "3.10.13"
  }
 },
 "nbformat": 4,
 "nbformat_minor": 2
}
