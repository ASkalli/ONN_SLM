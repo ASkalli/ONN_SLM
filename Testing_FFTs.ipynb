{
 "cells": [
  {
   "cell_type": "markdown",
   "metadata": {},
   "source": [
    "# MNIST with linear optical neural network"
   ]
  },
  {
   "cell_type": "code",
   "execution_count": 2,
   "metadata": {},
   "outputs": [],
   "source": [
    "import numpy as np\n",
    "import matplotlib.pyplot as plt\n",
    "import torch\n",
    "from torchvision import datasets, transforms"
   ]
  },
  {
   "cell_type": "code",
   "execution_count": 3,
   "metadata": {},
   "outputs": [],
   "source": [
    "#MNIST dataset\n",
    "MNIST_train = datasets.MNIST(root='./data', train=True, transform=transforms.ToTensor(), download=True)\n",
    "MNIST_test = datasets.MNIST(root='./data', train=False, transform=transforms.ToTensor(), download=True)\n",
    "\n",
    "#Dataloaders\n",
    "train_loader_MNIST = torch.utils.data.DataLoader(dataset=MNIST_train, batch_size=60000, shuffle=True)\n",
    "test_loader_MNIST = torch.utils.data.DataLoader(dataset=MNIST_test, batch_size=10000, shuffle=False)\n"
   ]
  },
  {
   "cell_type": "code",
   "execution_count": 4,
   "metadata": {},
   "outputs": [],
   "source": [
    "X_train_MNIST, Y_train_MNIST = next(iter(train_loader_MNIST))\n",
    "X_train_MNIST = np.squeeze(X_train_MNIST.numpy())\n",
    "Y_train_MNIST = Y_train_MNIST.numpy()\n",
    "\n",
    "X_test_MNIST, Y_test_MNIST = next(iter(test_loader_MNIST))\n",
    "X_test_MNIST = np.squeeze(X_test_MNIST.numpy())\n",
    "Y_test_MNIST = Y_test_MNIST.numpy()"
   ]
  },
  {
   "cell_type": "markdown",
   "metadata": {},
   "source": [
    "#### Here we try different FFFTs\n",
    "\n",
    "- On the numpy arrays we just created before.\n",
    "- Numpy, scipy, cupy, torch"
   ]
  },
  {
   "cell_type": "code",
   "execution_count": 5,
   "metadata": {},
   "outputs": [],
   "source": [
    "import time\n",
    "import scipy\n",
    "import pyfftw"
   ]
  },
  {
   "cell_type": "code",
   "execution_count": 6,
   "metadata": {},
   "outputs": [
    {
     "name": "stdout",
     "output_type": "stream",
     "text": [
      "Time for numpy FFT: 0.873779296875\n"
     ]
    }
   ],
   "source": [
    "# let's test numpy's FFT \n",
    "\n",
    "start_time = time.time()\n",
    "\n",
    "X_train_FFT_1 = np.fft.fft2(X_train_MNIST, axes=(-2,-1))\n",
    "\n",
    "end_time = time.time()\n",
    "\n",
    "npumpy_FFT_time = end_time - start_time\n",
    "\n",
    "print(f'Time for numpy FFT: {end_time - start_time}')"
   ]
  },
  {
   "cell_type": "code",
   "execution_count": 7,
   "metadata": {},
   "outputs": [
    {
     "name": "stdout",
     "output_type": "stream",
     "text": [
      "Time for scipy FFT: 0.7127516269683838\n"
     ]
    }
   ],
   "source": [
    "# let's test scipy's FFT\n",
    "\n",
    "start_time = time.time()\n",
    "\n",
    "X_train_FFT_2 = scipy.fft.fft2(X_train_MNIST, axes=(-2,-1))\n",
    "\n",
    "end_time = time.time()\n",
    "\n",
    "scipy_FFT_time = end_time - start_time\n",
    "\n",
    "print(f'Time for scipy FFT: {end_time - start_time}')\n"
   ]
  },
  {
   "cell_type": "code",
   "execution_count": 8,
   "metadata": {},
   "outputs": [
    {
     "name": "stdout",
     "output_type": "stream",
     "text": [
      "Time for scipy FFT: 0.3736300468444824\n"
     ]
    }
   ],
   "source": [
    "# let's test fftw's FFT, it is natively faster and supports easy multithreading\n",
    "\n",
    "start_time = time.time()\n",
    "pyfftw.config.NUM_THREADS = 8\n",
    "X_train_FFT_3 = pyfftw.interfaces.numpy_fft.fft2(X_train_MNIST, axes=(-2,-1))\n",
    "\n",
    "end_time = time.time()\n",
    "\n",
    "scipy_FFT_time = end_time - start_time\n",
    "\n",
    "print(f'Time for scipy FFT: {end_time - start_time}')"
   ]
  },
  {
   "cell_type": "code",
   "execution_count": null,
   "metadata": {},
   "outputs": [],
   "source": []
  }
 ],
 "metadata": {
  "kernelspec": {
   "display_name": "base",
   "language": "python",
   "name": "python3"
  },
  "language_info": {
   "codemirror_mode": {
    "name": "ipython",
    "version": 3
   },
   "file_extension": ".py",
   "mimetype": "text/x-python",
   "name": "python",
   "nbconvert_exporter": "python",
   "pygments_lexer": "ipython3",
   "version": "3.10.13"
  }
 },
 "nbformat": 4,
 "nbformat_minor": 2
}
