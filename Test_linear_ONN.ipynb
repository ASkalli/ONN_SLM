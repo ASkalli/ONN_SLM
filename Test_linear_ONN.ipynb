{
 "cells": [
  {
   "cell_type": "code",
   "execution_count": 17,
   "metadata": {},
   "outputs": [
    {
     "ename": "ImportError",
     "evalue": "cannot import name 'padd_images' from 'NN_utils' (c:\\Users\\Admin\\Desktop\\PhD\\simulation\\simulation_python\\ONN_SLM\\NN_utils.py)",
     "output_type": "error",
     "traceback": [
      "\u001b[1;31m---------------------------------------------------------------------------\u001b[0m",
      "\u001b[1;31mImportError\u001b[0m                               Traceback (most recent call last)",
      "Cell \u001b[1;32mIn[17], line 10\u001b[0m\n\u001b[0;32m      8\u001b[0m \u001b[38;5;28;01mimport\u001b[39;00m \u001b[38;5;21;01mscipy\u001b[39;00m\n\u001b[0;32m      9\u001b[0m \u001b[38;5;28;01mimport\u001b[39;00m \u001b[38;5;21;01mpyfftw\u001b[39;00m\n\u001b[1;32m---> 10\u001b[0m \u001b[38;5;28;01mfrom\u001b[39;00m \u001b[38;5;21;01mNN_utils\u001b[39;00m \u001b[38;5;28;01mimport\u001b[39;00m Lin_ONN,gaussian_beam,to_boolean_tensor,generate_blaze_grating_phase,padd_images\n",
      "\u001b[1;31mImportError\u001b[0m: cannot import name 'padd_images' from 'NN_utils' (c:\\Users\\Admin\\Desktop\\PhD\\simulation\\simulation_python\\ONN_SLM\\NN_utils.py)"
     ]
    }
   ],
   "source": [
    "import numpy as np\n",
    "import matplotlib.pyplot as plt\n",
    "import torch\n",
    "from torchvision import datasets, transforms\n",
    "import torch.nn as nn\n",
    "import torch.nn.functional as F\n",
    "import time\n",
    "import scipy\n",
    "import pyfftw\n",
    "from NN_utils import Lin_ONN,gaussian_beam,to_boolean_tensor,generate_blaze_grating_phase,padd_images"
   ]
  },
  {
   "cell_type": "code",
   "execution_count": 5,
   "metadata": {},
   "outputs": [],
   "source": [
    "#MNIST dataset\n",
    "MNIST_train = datasets.MNIST(root='./data', train=True, transform=transforms.Compose([transforms.ToTensor(),transforms.Lambda(to_boolean_tensor)]), download=True)\n",
    "MNIST_test = datasets.MNIST(root='./data', train=False, transform=transforms.Compose([transforms.ToTensor(),transforms.Lambda(to_boolean_tensor)]), download=True)\n",
    "\n",
    "#Dataloaders\n",
    "train_loader_MNIST = torch.utils.data.DataLoader(dataset=MNIST_train, batch_size=10000, shuffle=True)\n",
    "test_loader_MNIST = torch.utils.data.DataLoader(dataset=MNIST_test, batch_size=10000, shuffle=False)\n"
   ]
  },
  {
   "cell_type": "code",
   "execution_count": 9,
   "metadata": {},
   "outputs": [
    {
     "ename": "NameError",
     "evalue": "name 'padd_images' is not defined",
     "output_type": "error",
     "traceback": [
      "\u001b[1;31m---------------------------------------------------------------------------\u001b[0m",
      "\u001b[1;31mNameError\u001b[0m                                 Traceback (most recent call last)",
      "Cell \u001b[1;32mIn[9], line 7\u001b[0m\n\u001b[0;32m      3\u001b[0m Gaussian_beam \u001b[38;5;241m=\u001b[39m gaussian_beam(X_train_MNIST\u001b[38;5;241m.\u001b[39mshape[\u001b[38;5;241m-\u001b[39m\u001b[38;5;241m1\u001b[39m])\n\u001b[0;32m      5\u001b[0m X_train_MNIST \u001b[38;5;241m=\u001b[39m X_train_MNIST\u001b[38;5;241m*\u001b[39mGaussian_beam\n\u001b[1;32m----> 7\u001b[0m X_train_MNIST \u001b[38;5;241m=\u001b[39m \u001b[43mpadd_images\u001b[49m(X_train_MNIST,pad_length\u001b[38;5;241m=\u001b[39m\u001b[38;5;241m5\u001b[39m)\n",
      "\u001b[1;31mNameError\u001b[0m: name 'padd_images' is not defined"
     ]
    }
   ],
   "source": [
    "X_train_MNIST, Y_train_MNIST = next(iter(train_loader_MNIST))\n",
    "\n",
    "Gaussian_beam = gaussian_beam(X_train_MNIST.shape[-1])\n",
    "\n",
    "X_train_MNIST = X_train_MNIST*Gaussian_beam\n",
    "\n",
    "X_train_MNIST = padd_images(X_train_MNIST,pad_length=5)\n"
   ]
  },
  {
   "cell_type": "code",
   "execution_count": null,
   "metadata": {},
   "outputs": [
    {
     "data": {
      "text/plain": [
       "28"
      ]
     },
     "execution_count": 8,
     "metadata": {},
     "output_type": "execute_result"
    }
   ],
   "source": []
  },
  {
   "cell_type": "code",
   "execution_count": null,
   "metadata": {},
   "outputs": [],
   "source": []
  },
  {
   "cell_type": "code",
   "execution_count": null,
   "metadata": {},
   "outputs": [],
   "source": []
  }
 ],
 "metadata": {
  "kernelspec": {
   "display_name": "base",
   "language": "python",
   "name": "python3"
  },
  "language_info": {
   "codemirror_mode": {
    "name": "ipython",
    "version": 3
   },
   "file_extension": ".py",
   "mimetype": "text/x-python",
   "name": "python",
   "nbconvert_exporter": "python",
   "pygments_lexer": "ipython3",
   "version": "3.10.13"
  }
 },
 "nbformat": 4,
 "nbformat_minor": 2
}
